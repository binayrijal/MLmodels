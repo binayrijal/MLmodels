{
 "cells": [
  {
   "cell_type": "code",
   "execution_count": 2,
   "id": "4b404af9-1405-487d-8996-931ca1a4f5b4",
   "metadata": {},
   "outputs": [],
   "source": [
    "import pandas as pd\n",
    "import numpy as np"
   ]
  },
  {
   "cell_type": "code",
   "execution_count": 3,
   "id": "d72b9348-0824-461c-8994-7f9b208d51fa",
   "metadata": {},
   "outputs": [],
   "source": [
    "car=pd.read_csv('quikr_car.csv')"
   ]
  },
  {
   "cell_type": "code",
   "execution_count": 4,
   "id": "17650269-ec0e-4fbd-8bac-092dd3a6ea65",
   "metadata": {},
   "outputs": [
    {
     "data": {
      "text/html": [
       "<div>\n",
       "<style scoped>\n",
       "    .dataframe tbody tr th:only-of-type {\n",
       "        vertical-align: middle;\n",
       "    }\n",
       "\n",
       "    .dataframe tbody tr th {\n",
       "        vertical-align: top;\n",
       "    }\n",
       "\n",
       "    .dataframe thead th {\n",
       "        text-align: right;\n",
       "    }\n",
       "</style>\n",
       "<table border=\"1\" class=\"dataframe\">\n",
       "  <thead>\n",
       "    <tr style=\"text-align: right;\">\n",
       "      <th></th>\n",
       "      <th>name</th>\n",
       "      <th>company</th>\n",
       "      <th>year</th>\n",
       "      <th>Price</th>\n",
       "      <th>kms_driven</th>\n",
       "      <th>fuel_type</th>\n",
       "    </tr>\n",
       "  </thead>\n",
       "  <tbody>\n",
       "    <tr>\n",
       "      <th>0</th>\n",
       "      <td>Hyundai Santro Xing XO eRLX Euro III</td>\n",
       "      <td>Hyundai</td>\n",
       "      <td>2007</td>\n",
       "      <td>80,000</td>\n",
       "      <td>45,000 kms</td>\n",
       "      <td>Petrol</td>\n",
       "    </tr>\n",
       "    <tr>\n",
       "      <th>1</th>\n",
       "      <td>Mahindra Jeep CL550 MDI</td>\n",
       "      <td>Mahindra</td>\n",
       "      <td>2006</td>\n",
       "      <td>4,25,000</td>\n",
       "      <td>40 kms</td>\n",
       "      <td>Diesel</td>\n",
       "    </tr>\n",
       "    <tr>\n",
       "      <th>2</th>\n",
       "      <td>Maruti Suzuki Alto 800 Vxi</td>\n",
       "      <td>Maruti</td>\n",
       "      <td>2018</td>\n",
       "      <td>Ask For Price</td>\n",
       "      <td>22,000 kms</td>\n",
       "      <td>Petrol</td>\n",
       "    </tr>\n",
       "    <tr>\n",
       "      <th>3</th>\n",
       "      <td>Hyundai Grand i10 Magna 1.2 Kappa VTVT</td>\n",
       "      <td>Hyundai</td>\n",
       "      <td>2014</td>\n",
       "      <td>3,25,000</td>\n",
       "      <td>28,000 kms</td>\n",
       "      <td>Petrol</td>\n",
       "    </tr>\n",
       "    <tr>\n",
       "      <th>4</th>\n",
       "      <td>Ford EcoSport Titanium 1.5L TDCi</td>\n",
       "      <td>Ford</td>\n",
       "      <td>2014</td>\n",
       "      <td>5,75,000</td>\n",
       "      <td>36,000 kms</td>\n",
       "      <td>Diesel</td>\n",
       "    </tr>\n",
       "  </tbody>\n",
       "</table>\n",
       "</div>"
      ],
      "text/plain": [
       "                                     name   company  year          Price  \\\n",
       "0    Hyundai Santro Xing XO eRLX Euro III   Hyundai  2007         80,000   \n",
       "1                 Mahindra Jeep CL550 MDI  Mahindra  2006       4,25,000   \n",
       "2              Maruti Suzuki Alto 800 Vxi    Maruti  2018  Ask For Price   \n",
       "3  Hyundai Grand i10 Magna 1.2 Kappa VTVT   Hyundai  2014       3,25,000   \n",
       "4        Ford EcoSport Titanium 1.5L TDCi      Ford  2014       5,75,000   \n",
       "\n",
       "   kms_driven fuel_type  \n",
       "0  45,000 kms    Petrol  \n",
       "1      40 kms    Diesel  \n",
       "2  22,000 kms    Petrol  \n",
       "3  28,000 kms    Petrol  \n",
       "4  36,000 kms    Diesel  "
      ]
     },
     "execution_count": 4,
     "metadata": {},
     "output_type": "execute_result"
    }
   ],
   "source": [
    "car.head(5)"
   ]
  },
  {
   "cell_type": "code",
   "execution_count": 5,
   "id": "10e1c33f-52df-4d84-9889-ac3cd5e2f8a0",
   "metadata": {},
   "outputs": [
    {
     "name": "stdout",
     "output_type": "stream",
     "text": [
      "<class 'pandas.core.frame.DataFrame'>\n",
      "RangeIndex: 892 entries, 0 to 891\n",
      "Data columns (total 6 columns):\n",
      " #   Column      Non-Null Count  Dtype \n",
      "---  ------      --------------  ----- \n",
      " 0   name        892 non-null    object\n",
      " 1   company     892 non-null    object\n",
      " 2   year        892 non-null    object\n",
      " 3   Price       892 non-null    object\n",
      " 4   kms_driven  840 non-null    object\n",
      " 5   fuel_type   837 non-null    object\n",
      "dtypes: object(6)\n",
      "memory usage: 41.9+ KB\n"
     ]
    }
   ],
   "source": [
    "car.info()"
   ]
  },
  {
   "cell_type": "markdown",
   "id": "b9c63e4d-ff24-422f-a965-4e8a18bcebf6",
   "metadata": {},
   "source": [
    "##clean data first"
   ]
  },
  {
   "cell_type": "code",
   "execution_count": 6,
   "id": "7e800ce6-bc9d-4529-8b0f-c4e2db1491aa",
   "metadata": {},
   "outputs": [
    {
     "data": {
      "text/plain": [
       "array(['2007', '2006', '2018', '2014', '2015', '2012', '2013', '2016',\n",
       "       '2010', '2017', '2008', '2011', '2019', '2009', '2005', '2000',\n",
       "       '...', '150k', 'TOUR', '2003', 'r 15', '2004', 'Zest', '/-Rs',\n",
       "       'sale', '1995', 'ara)', '2002', 'SELL', '2001', 'tion', 'odel',\n",
       "       '2 bs', 'arry', 'Eon', 'o...', 'ture', 'emi', 'car', 'able', 'no.',\n",
       "       'd...', 'SALE', 'digo', 'sell', 'd Ex', 'n...', 'e...', 'D...',\n",
       "       ', Ac', 'go .', 'k...', 'o c4', 'zire', 'cent', 'Sumo', 'cab',\n",
       "       't xe', 'EV2', 'r...', 'zest'], dtype=object)"
      ]
     },
     "execution_count": 6,
     "metadata": {},
     "output_type": "execute_result"
    }
   ],
   "source": [
    "car['year'].unique()"
   ]
  },
  {
   "cell_type": "code",
   "execution_count": 7,
   "id": "9a7e5ca9-0fb6-4448-a11e-f323e3b16906",
   "metadata": {},
   "outputs": [
    {
     "data": {
      "text/plain": [
       "array(['80,000', '4,25,000', 'Ask For Price', '3,25,000', '5,75,000',\n",
       "       '1,75,000', '1,90,000', '8,30,000', '2,50,000', '1,82,000',\n",
       "       '3,15,000', '4,15,000', '3,20,000', '10,00,000', '5,00,000',\n",
       "       '3,50,000', '1,60,000', '3,10,000', '75,000', '1,00,000',\n",
       "       '2,90,000', '95,000', '1,80,000', '3,85,000', '1,05,000',\n",
       "       '6,50,000', '6,89,999', '4,48,000', '5,49,000', '5,01,000',\n",
       "       '4,89,999', '2,80,000', '3,49,999', '2,84,999', '3,45,000',\n",
       "       '4,99,999', '2,35,000', '2,49,999', '14,75,000', '3,95,000',\n",
       "       '2,20,000', '1,70,000', '85,000', '2,00,000', '5,70,000',\n",
       "       '1,10,000', '4,48,999', '18,91,111', '1,59,500', '3,44,999',\n",
       "       '4,49,999', '8,65,000', '6,99,000', '3,75,000', '2,24,999',\n",
       "       '12,00,000', '1,95,000', '3,51,000', '2,40,000', '90,000',\n",
       "       '1,55,000', '6,00,000', '1,89,500', '2,10,000', '3,90,000',\n",
       "       '1,35,000', '16,00,000', '7,01,000', '2,65,000', '5,25,000',\n",
       "       '3,72,000', '6,35,000', '5,50,000', '4,85,000', '3,29,500',\n",
       "       '2,51,111', '5,69,999', '69,999', '2,99,999', '3,99,999',\n",
       "       '4,50,000', '2,70,000', '1,58,400', '1,79,000', '1,25,000',\n",
       "       '2,99,000', '1,50,000', '2,75,000', '2,85,000', '3,40,000',\n",
       "       '70,000', '2,89,999', '8,49,999', '7,49,999', '2,74,999',\n",
       "       '9,84,999', '5,99,999', '2,44,999', '4,74,999', '2,45,000',\n",
       "       '1,69,500', '3,70,000', '1,68,000', '1,45,000', '98,500',\n",
       "       '2,09,000', '1,85,000', '9,00,000', '6,99,999', '1,99,999',\n",
       "       '5,44,999', '1,99,000', '5,40,000', '49,000', '7,00,000', '55,000',\n",
       "       '8,95,000', '3,55,000', '5,65,000', '3,65,000', '40,000',\n",
       "       '4,00,000', '3,30,000', '5,80,000', '3,79,000', '2,19,000',\n",
       "       '5,19,000', '7,30,000', '20,00,000', '21,00,000', '14,00,000',\n",
       "       '3,11,000', '8,55,000', '5,35,000', '1,78,000', '3,00,000',\n",
       "       '2,55,000', '5,49,999', '3,80,000', '57,000', '4,10,000',\n",
       "       '2,25,000', '1,20,000', '59,000', '5,99,000', '6,75,000', '72,500',\n",
       "       '6,10,000', '2,30,000', '5,20,000', '5,24,999', '4,24,999',\n",
       "       '6,44,999', '5,84,999', '7,99,999', '4,44,999', '6,49,999',\n",
       "       '9,44,999', '5,74,999', '3,74,999', '1,30,000', '4,01,000',\n",
       "       '13,50,000', '1,74,999', '2,39,999', '99,999', '3,24,999',\n",
       "       '10,74,999', '11,30,000', '1,49,000', '7,70,000', '30,000',\n",
       "       '3,35,000', '3,99,000', '65,000', '1,69,999', '1,65,000',\n",
       "       '5,60,000', '9,50,000', '7,15,000', '45,000', '9,40,000',\n",
       "       '1,55,555', '15,00,000', '4,95,000', '8,00,000', '12,99,000',\n",
       "       '5,30,000', '14,99,000', '32,000', '4,05,000', '7,60,000',\n",
       "       '7,50,000', '4,19,000', '1,40,000', '15,40,000', '1,23,000',\n",
       "       '4,98,000', '4,80,000', '4,88,000', '15,25,000', '5,48,900',\n",
       "       '7,25,000', '99,000', '52,000', '28,00,000', '4,99,000',\n",
       "       '3,81,000', '2,78,000', '6,90,000', '2,60,000', '90,001',\n",
       "       '1,15,000', '15,99,000', '1,59,000', '51,999', '2,15,000',\n",
       "       '35,000', '11,50,000', '2,69,000', '60,000', '4,30,000',\n",
       "       '85,00,003', '4,01,919', '4,90,000', '4,24,000', '2,05,000',\n",
       "       '5,49,900', '3,71,500', '4,35,000', '1,89,700', '3,89,700',\n",
       "       '3,60,000', '2,95,000', '1,14,990', '10,65,000', '4,70,000',\n",
       "       '48,000', '1,88,000', '4,65,000', '1,79,999', '21,90,000',\n",
       "       '23,90,000', '10,75,000', '4,75,000', '10,25,000', '6,15,000',\n",
       "       '19,00,000', '14,90,000', '15,10,000', '18,50,000', '7,90,000',\n",
       "       '17,25,000', '12,25,000', '68,000', '9,70,000', '31,00,000',\n",
       "       '8,99,000', '88,000', '53,000', '5,68,500', '71,000', '5,90,000',\n",
       "       '7,95,000', '42,000', '1,89,000', '1,62,000', '35,999',\n",
       "       '29,00,000', '39,999', '50,500', '5,10,000', '8,60,000',\n",
       "       '5,00,001'], dtype=object)"
      ]
     },
     "execution_count": 7,
     "metadata": {},
     "output_type": "execute_result"
    }
   ],
   "source": [
    "car['Price'].unique()"
   ]
  },
  {
   "cell_type": "code",
   "execution_count": 8,
   "id": "ff115a02-4607-479d-bdea-ed76f94d323d",
   "metadata": {},
   "outputs": [],
   "source": [
    "backup=car.copy()"
   ]
  },
  {
   "cell_type": "code",
   "execution_count": 9,
   "id": "392e4dda-b620-4a6e-bd48-da8d674fc170",
   "metadata": {},
   "outputs": [
    {
     "data": {
      "text/plain": [
       "array(['45,000 kms', '40 kms', '22,000 kms', '28,000 kms', '36,000 kms',\n",
       "       '59,000 kms', '41,000 kms', '25,000 kms', '24,530 kms',\n",
       "       '60,000 kms', '30,000 kms', '32,000 kms', '48,660 kms',\n",
       "       '4,000 kms', '16,934 kms', '43,000 kms', '35,550 kms',\n",
       "       '39,522 kms', '39,000 kms', '55,000 kms', '72,000 kms',\n",
       "       '15,975 kms', '70,000 kms', '23,452 kms', '35,522 kms',\n",
       "       '48,508 kms', '15,487 kms', '82,000 kms', '20,000 kms',\n",
       "       '68,000 kms', '38,000 kms', '27,000 kms', '33,000 kms',\n",
       "       '46,000 kms', '16,000 kms', '47,000 kms', '35,000 kms',\n",
       "       '30,874 kms', '15,000 kms', '29,685 kms', '1,30,000 kms',\n",
       "       '19,000 kms', nan, '54,000 kms', '13,000 kms', '38,200 kms',\n",
       "       '50,000 kms', '13,500 kms', '3,600 kms', '45,863 kms',\n",
       "       '60,500 kms', '12,500 kms', '18,000 kms', '13,349 kms',\n",
       "       '29,000 kms', '44,000 kms', '42,000 kms', '14,000 kms',\n",
       "       '49,000 kms', '36,200 kms', '51,000 kms', '1,04,000 kms',\n",
       "       '33,333 kms', '33,600 kms', '5,600 kms', '7,500 kms', '26,000 kms',\n",
       "       '24,330 kms', '65,480 kms', '28,028 kms', '2,00,000 kms',\n",
       "       '99,000 kms', '2,800 kms', '21,000 kms', '11,000 kms',\n",
       "       '66,000 kms', '3,000 kms', '7,000 kms', '38,500 kms', '37,200 kms',\n",
       "       '43,200 kms', '24,800 kms', '45,872 kms', '40,000 kms',\n",
       "       '11,400 kms', '97,200 kms', '52,000 kms', '31,000 kms',\n",
       "       '1,75,430 kms', '37,000 kms', '65,000 kms', '3,350 kms',\n",
       "       '75,000 kms', '62,000 kms', '73,000 kms', '2,200 kms',\n",
       "       '54,870 kms', '34,580 kms', '97,000 kms', '60 kms', '80,200 kms',\n",
       "       '3,200 kms', '0,000 kms', '5,000 kms', '588 kms', '71,200 kms',\n",
       "       '1,75,400 kms', '9,300 kms', '56,758 kms', '10,000 kms',\n",
       "       '56,450 kms', '56,000 kms', '32,700 kms', '9,000 kms', '73 kms',\n",
       "       '1,60,000 kms', '84,000 kms', '58,559 kms', '57,000 kms',\n",
       "       '1,70,000 kms', '80,000 kms', '6,821 kms', '23,000 kms',\n",
       "       '34,000 kms', '1,800 kms', '4,00,000 kms', '48,000 kms',\n",
       "       '90,000 kms', '12,000 kms', '69,900 kms', '1,66,000 kms',\n",
       "       '122 kms', '0 kms', '24,000 kms', '36,469 kms', '7,800 kms',\n",
       "       '24,695 kms', '15,141 kms', '59,910 kms', '1,00,000 kms',\n",
       "       '4,500 kms', '1,29,000 kms', '300 kms', '1,31,000 kms',\n",
       "       '1,11,111 kms', '59,466 kms', '25,500 kms', '44,005 kms',\n",
       "       '2,110 kms', '43,222 kms', '1,00,200 kms', '65 kms',\n",
       "       '1,40,000 kms', '1,03,553 kms', '58,000 kms', '1,20,000 kms',\n",
       "       '49,800 kms', '100 kms', '81,876 kms', '6,020 kms', '55,700 kms',\n",
       "       '18,500 kms', '1,80,000 kms', '53,000 kms', '35,500 kms',\n",
       "       '22,134 kms', '1,000 kms', '8,500 kms', '87,000 kms', '6,000 kms',\n",
       "       '15,574 kms', '8,000 kms', '55,800 kms', '56,400 kms',\n",
       "       '72,160 kms', '11,500 kms', '1,33,000 kms', '2,000 kms',\n",
       "       '88,000 kms', '65,422 kms', '1,17,000 kms', '1,50,000 kms',\n",
       "       '10,750 kms', '6,800 kms', '5 kms', '9,800 kms', '57,923 kms',\n",
       "       '30,201 kms', '6,200 kms', '37,518 kms', '24,652 kms', '383 kms',\n",
       "       '95,000 kms', '3,528 kms', '52,500 kms', '47,900 kms',\n",
       "       '52,800 kms', '1,95,000 kms', '48,008 kms', '48,247 kms',\n",
       "       '9,400 kms', '64,000 kms', '2,137 kms', '10,544 kms', '49,500 kms',\n",
       "       '1,47,000 kms', '90,001 kms', '48,006 kms', '74,000 kms',\n",
       "       '85,000 kms', '29,500 kms', '39,700 kms', '67,000 kms',\n",
       "       '19,336 kms', '60,105 kms', '45,933 kms', '1,02,563 kms',\n",
       "       '28,600 kms', '41,800 kms', '1,16,000 kms', '42,590 kms',\n",
       "       '7,400 kms', '54,500 kms', '76,000 kms', '00 kms', '11,523 kms',\n",
       "       '38,600 kms', '95,500 kms', '37,458 kms', '85,960 kms',\n",
       "       '12,516 kms', '30,600 kms', '2,550 kms', '62,500 kms',\n",
       "       '69,000 kms', '28,400 kms', '68,485 kms', '3,500 kms',\n",
       "       '85,455 kms', '63,000 kms', '1,600 kms', '77,000 kms',\n",
       "       '26,500 kms', '2,875 kms', '13,900 kms', '1,500 kms', '2,450 kms',\n",
       "       '1,625 kms', '33,400 kms', '60,123 kms', '38,900 kms',\n",
       "       '1,37,495 kms', '91,200 kms', '1,46,000 kms', '1,00,800 kms',\n",
       "       '2,100 kms', '2,500 kms', '1,32,000 kms', 'Petrol'], dtype=object)"
      ]
     },
     "execution_count": 9,
     "metadata": {},
     "output_type": "execute_result"
    }
   ],
   "source": [
    "car['kms_driven'].unique()"
   ]
  },
  {
   "cell_type": "code",
   "execution_count": 11,
   "id": "40e16bb0-a2f7-44ea-b13c-db7f1d6f9756",
   "metadata": {},
   "outputs": [
    {
     "data": {
      "text/plain": [
       "array(['Petrol', 'Diesel', nan, 'LPG'], dtype=object)"
      ]
     },
     "execution_count": 11,
     "metadata": {},
     "output_type": "execute_result"
    }
   ],
   "source": [
    "car['fuel_type'].unique()"
   ]
  },
  {
   "cell_type": "code",
   "execution_count": 12,
   "id": "2a7089a8-d23a-4973-98c6-50ee7fb0b3bf",
   "metadata": {},
   "outputs": [],
   "source": [
    "car=car[car['year'].str.isnumeric()]"
   ]
  },
  {
   "cell_type": "code",
   "execution_count": 13,
   "id": "7996d087-c675-4edc-a2d6-9cb264bf2d86",
   "metadata": {},
   "outputs": [],
   "source": [
    "car['year']=car['year'].astype(int)"
   ]
  },
  {
   "cell_type": "code",
   "execution_count": 14,
   "id": "f41a4a29-8a19-48dc-82a7-9ee388c40a7c",
   "metadata": {},
   "outputs": [],
   "source": [
    "car=car[car['Price']!=\"Ask For Price\"]"
   ]
  },
  {
   "cell_type": "code",
   "execution_count": 15,
   "id": "4b80493a-c880-410e-b887-ef59116ae14c",
   "metadata": {},
   "outputs": [
    {
     "data": {
      "text/plain": [
       "array(['80,000', '4,25,000', '3,25,000', '5,75,000', '1,75,000',\n",
       "       '1,90,000', '8,30,000', '2,50,000', '1,82,000', '3,15,000',\n",
       "       '4,15,000', '3,20,000', '10,00,000', '5,00,000', '3,50,000',\n",
       "       '1,60,000', '3,10,000', '75,000', '1,00,000', '2,90,000', '95,000',\n",
       "       '1,80,000', '3,85,000', '1,05,000', '6,50,000', '6,89,999',\n",
       "       '4,48,000', '5,49,000', '5,01,000', '4,89,999', '2,80,000',\n",
       "       '3,49,999', '2,84,999', '3,45,000', '4,99,999', '2,35,000',\n",
       "       '2,49,999', '14,75,000', '3,95,000', '2,20,000', '1,70,000',\n",
       "       '85,000', '2,00,000', '5,70,000', '1,10,000', '4,48,999',\n",
       "       '18,91,111', '1,59,500', '3,44,999', '4,49,999', '8,65,000',\n",
       "       '6,99,000', '3,75,000', '2,24,999', '12,00,000', '1,95,000',\n",
       "       '3,51,000', '2,40,000', '90,000', '1,55,000', '6,00,000',\n",
       "       '1,89,500', '2,10,000', '3,90,000', '1,35,000', '16,00,000',\n",
       "       '7,01,000', '2,65,000', '5,25,000', '3,72,000', '6,35,000',\n",
       "       '5,50,000', '4,85,000', '3,29,500', '2,51,111', '5,69,999',\n",
       "       '69,999', '2,99,999', '3,99,999', '4,50,000', '2,70,000',\n",
       "       '1,58,400', '1,79,000', '1,25,000', '2,99,000', '1,50,000',\n",
       "       '2,75,000', '2,85,000', '3,40,000', '70,000', '2,89,999',\n",
       "       '8,49,999', '7,49,999', '2,74,999', '9,84,999', '5,99,999',\n",
       "       '2,44,999', '4,74,999', '2,45,000', '1,69,500', '3,70,000',\n",
       "       '1,68,000', '1,45,000', '98,500', '2,09,000', '1,85,000',\n",
       "       '9,00,000', '6,99,999', '1,99,999', '5,44,999', '1,99,000',\n",
       "       '5,40,000', '49,000', '7,00,000', '55,000', '8,95,000', '3,55,000',\n",
       "       '5,65,000', '3,65,000', '40,000', '4,00,000', '3,30,000',\n",
       "       '5,80,000', '3,79,000', '2,19,000', '5,19,000', '7,30,000',\n",
       "       '20,00,000', '21,00,000', '14,00,000', '3,11,000', '8,55,000',\n",
       "       '5,35,000', '1,78,000', '3,00,000', '2,55,000', '5,49,999',\n",
       "       '3,80,000', '57,000', '4,10,000', '2,25,000', '1,20,000', '59,000',\n",
       "       '5,99,000', '6,75,000', '72,500', '6,10,000', '2,30,000',\n",
       "       '5,20,000', '5,24,999', '4,24,999', '6,44,999', '5,84,999',\n",
       "       '7,99,999', '4,44,999', '6,49,999', '9,44,999', '5,74,999',\n",
       "       '3,74,999', '1,30,000', '4,01,000', '13,50,000', '1,74,999',\n",
       "       '2,39,999', '99,999', '3,24,999', '10,74,999', '11,30,000',\n",
       "       '1,49,000', '7,70,000', '30,000', '3,35,000', '3,99,000', '65,000',\n",
       "       '1,69,999', '1,65,000', '5,60,000', '9,50,000', '7,15,000',\n",
       "       '45,000', '9,40,000', '1,55,555', '15,00,000', '4,95,000',\n",
       "       '8,00,000', '12,99,000', '5,30,000', '14,99,000', '32,000',\n",
       "       '4,05,000', '7,60,000', '7,50,000', '4,19,000', '1,40,000',\n",
       "       '15,40,000', '1,23,000', '4,98,000', '4,80,000', '4,88,000',\n",
       "       '15,25,000', '5,48,900', '7,25,000', '99,000', '52,000',\n",
       "       '28,00,000', '4,99,000', '3,81,000', '2,78,000', '6,90,000',\n",
       "       '2,60,000', '90,001', '1,15,000', '15,99,000', '1,59,000',\n",
       "       '51,999', '2,15,000', '35,000', '11,50,000', '2,69,000', '60,000',\n",
       "       '4,30,000', '85,00,003', '4,01,919', '4,90,000', '4,24,000',\n",
       "       '2,05,000', '5,49,900', '4,35,000', '1,89,700', '3,89,700',\n",
       "       '3,60,000', '2,95,000', '1,14,990', '10,65,000', '4,70,000',\n",
       "       '48,000', '1,88,000', '4,65,000', '1,79,999', '21,90,000',\n",
       "       '23,90,000', '10,75,000', '4,75,000', '10,25,000', '6,15,000',\n",
       "       '19,00,000', '14,90,000', '15,10,000', '18,50,000', '7,90,000',\n",
       "       '17,25,000', '12,25,000', '68,000', '9,70,000', '31,00,000',\n",
       "       '8,99,000', '88,000', '53,000', '5,68,500', '71,000', '5,90,000',\n",
       "       '7,95,000', '42,000', '1,89,000', '1,62,000', '35,999',\n",
       "       '29,00,000', '39,999', '50,500', '5,10,000', '8,60,000',\n",
       "       '5,00,001'], dtype=object)"
      ]
     },
     "execution_count": 15,
     "metadata": {},
     "output_type": "execute_result"
    }
   ],
   "source": [
    "car['Price'].unique()"
   ]
  },
  {
   "cell_type": "code",
   "execution_count": 16,
   "id": "9cb35fd8-9bd3-40fa-9ea7-ed6d5607086a",
   "metadata": {},
   "outputs": [],
   "source": [
    "car['Price']=car['Price'].str.replace(',','').astype(int)"
   ]
  },
  {
   "cell_type": "code",
   "execution_count": 17,
   "id": "3748c695-7431-44c0-b832-c8efba66fb69",
   "metadata": {},
   "outputs": [
    {
     "name": "stdout",
     "output_type": "stream",
     "text": [
      "<class 'pandas.core.frame.DataFrame'>\n",
      "Index: 819 entries, 0 to 891\n",
      "Data columns (total 6 columns):\n",
      " #   Column      Non-Null Count  Dtype \n",
      "---  ------      --------------  ----- \n",
      " 0   name        819 non-null    object\n",
      " 1   company     819 non-null    object\n",
      " 2   year        819 non-null    int32 \n",
      " 3   Price       819 non-null    int32 \n",
      " 4   kms_driven  819 non-null    object\n",
      " 5   fuel_type   816 non-null    object\n",
      "dtypes: int32(2), object(4)\n",
      "memory usage: 38.4+ KB\n"
     ]
    }
   ],
   "source": [
    "car.info()"
   ]
  },
  {
   "cell_type": "code",
   "execution_count": 18,
   "id": "2b71c714-c005-4f4d-9bcd-4e4354dda725",
   "metadata": {},
   "outputs": [],
   "source": [
    "car['kms_driven']=car['kms_driven'].str.split(' ').str.get(0).str.replace(',','')"
   ]
  },
  {
   "cell_type": "code",
   "execution_count": 19,
   "id": "301878a4-1b5a-4041-86cb-4cd5142032a7",
   "metadata": {},
   "outputs": [],
   "source": [
    "car=car[car['kms_driven'].str.isnumeric()]"
   ]
  },
  {
   "cell_type": "code",
   "execution_count": 20,
   "id": "6e023395-5e69-4f00-8d9c-43766a9b6bbe",
   "metadata": {},
   "outputs": [],
   "source": [
    "car['kms_driven']=car['kms_driven'].astype(int)"
   ]
  },
  {
   "cell_type": "code",
   "execution_count": 21,
   "id": "6c5d9690-b15e-4a7a-94cf-74e4fc6d0b09",
   "metadata": {},
   "outputs": [
    {
     "name": "stdout",
     "output_type": "stream",
     "text": [
      "<class 'pandas.core.frame.DataFrame'>\n",
      "Index: 817 entries, 0 to 889\n",
      "Data columns (total 6 columns):\n",
      " #   Column      Non-Null Count  Dtype \n",
      "---  ------      --------------  ----- \n",
      " 0   name        817 non-null    object\n",
      " 1   company     817 non-null    object\n",
      " 2   year        817 non-null    int32 \n",
      " 3   Price       817 non-null    int32 \n",
      " 4   kms_driven  817 non-null    int32 \n",
      " 5   fuel_type   816 non-null    object\n",
      "dtypes: int32(3), object(3)\n",
      "memory usage: 35.1+ KB\n"
     ]
    }
   ],
   "source": [
    "car.info()"
   ]
  },
  {
   "cell_type": "code",
   "execution_count": 22,
   "id": "83b35de1-f08e-4a1d-bd02-880a4f6136ed",
   "metadata": {},
   "outputs": [],
   "source": [
    "car=car[~car['fuel_type'].isna()]"
   ]
  },
  {
   "cell_type": "code",
   "execution_count": 23,
   "id": "cf7c1e75-87f0-47a3-8a92-d18881d14218",
   "metadata": {},
   "outputs": [
    {
     "data": {
      "text/plain": [
       "array(['Petrol', 'Diesel', 'LPG'], dtype=object)"
      ]
     },
     "execution_count": 23,
     "metadata": {},
     "output_type": "execute_result"
    }
   ],
   "source": [
    "car['fuel_type'].unique()"
   ]
  },
  {
   "cell_type": "code",
   "execution_count": 24,
   "id": "3c8f7061-bd38-4fbd-a300-e12dc841e7d3",
   "metadata": {},
   "outputs": [],
   "source": [
    "car['name']=car['name'].str.split(' ').str.slice(0,3).str.join('')"
   ]
  },
  {
   "cell_type": "code",
   "execution_count": 25,
   "id": "6ee3612d-a19f-4d0c-9cc4-93543e4e8d8d",
   "metadata": {},
   "outputs": [
    {
     "data": {
      "text/plain": [
       "0         HyundaiSantroXing\n",
       "1         MahindraJeepCL550\n",
       "3           HyundaiGrandi10\n",
       "4      FordEcoSportTitanium\n",
       "6                  FordFigo\n",
       "               ...         \n",
       "883        MarutiSuzukiRitz\n",
       "885            TataIndicaV2\n",
       "886      ToyotaCorollaAltis\n",
       "888              TataZestXM\n",
       "889        MahindraQuantoC8\n",
       "Name: name, Length: 816, dtype: object"
      ]
     },
     "execution_count": 25,
     "metadata": {},
     "output_type": "execute_result"
    }
   ],
   "source": [
    "car['name']"
   ]
  },
  {
   "cell_type": "code",
   "execution_count": 26,
   "id": "fc83b1df-a654-4c49-8eea-cac0c7661df4",
   "metadata": {},
   "outputs": [],
   "source": [
    "car=car.reset_index(drop=True)"
   ]
  },
  {
   "cell_type": "code",
   "execution_count": 27,
   "id": "08cb4652-9545-4431-96fa-0dfde693da67",
   "metadata": {},
   "outputs": [
    {
     "data": {
      "text/html": [
       "<div>\n",
       "<style scoped>\n",
       "    .dataframe tbody tr th:only-of-type {\n",
       "        vertical-align: middle;\n",
       "    }\n",
       "\n",
       "    .dataframe tbody tr th {\n",
       "        vertical-align: top;\n",
       "    }\n",
       "\n",
       "    .dataframe thead th {\n",
       "        text-align: right;\n",
       "    }\n",
       "</style>\n",
       "<table border=\"1\" class=\"dataframe\">\n",
       "  <thead>\n",
       "    <tr style=\"text-align: right;\">\n",
       "      <th></th>\n",
       "      <th>name</th>\n",
       "      <th>company</th>\n",
       "      <th>year</th>\n",
       "      <th>Price</th>\n",
       "      <th>kms_driven</th>\n",
       "      <th>fuel_type</th>\n",
       "    </tr>\n",
       "  </thead>\n",
       "  <tbody>\n",
       "    <tr>\n",
       "      <th>0</th>\n",
       "      <td>HyundaiSantroXing</td>\n",
       "      <td>Hyundai</td>\n",
       "      <td>2007</td>\n",
       "      <td>80000</td>\n",
       "      <td>45000</td>\n",
       "      <td>Petrol</td>\n",
       "    </tr>\n",
       "    <tr>\n",
       "      <th>1</th>\n",
       "      <td>MahindraJeepCL550</td>\n",
       "      <td>Mahindra</td>\n",
       "      <td>2006</td>\n",
       "      <td>425000</td>\n",
       "      <td>40</td>\n",
       "      <td>Diesel</td>\n",
       "    </tr>\n",
       "    <tr>\n",
       "      <th>2</th>\n",
       "      <td>HyundaiGrandi10</td>\n",
       "      <td>Hyundai</td>\n",
       "      <td>2014</td>\n",
       "      <td>325000</td>\n",
       "      <td>28000</td>\n",
       "      <td>Petrol</td>\n",
       "    </tr>\n",
       "    <tr>\n",
       "      <th>3</th>\n",
       "      <td>FordEcoSportTitanium</td>\n",
       "      <td>Ford</td>\n",
       "      <td>2014</td>\n",
       "      <td>575000</td>\n",
       "      <td>36000</td>\n",
       "      <td>Diesel</td>\n",
       "    </tr>\n",
       "    <tr>\n",
       "      <th>4</th>\n",
       "      <td>FordFigo</td>\n",
       "      <td>Ford</td>\n",
       "      <td>2012</td>\n",
       "      <td>175000</td>\n",
       "      <td>41000</td>\n",
       "      <td>Diesel</td>\n",
       "    </tr>\n",
       "    <tr>\n",
       "      <th>...</th>\n",
       "      <td>...</td>\n",
       "      <td>...</td>\n",
       "      <td>...</td>\n",
       "      <td>...</td>\n",
       "      <td>...</td>\n",
       "      <td>...</td>\n",
       "    </tr>\n",
       "    <tr>\n",
       "      <th>811</th>\n",
       "      <td>MarutiSuzukiRitz</td>\n",
       "      <td>Maruti</td>\n",
       "      <td>2011</td>\n",
       "      <td>270000</td>\n",
       "      <td>50000</td>\n",
       "      <td>Petrol</td>\n",
       "    </tr>\n",
       "    <tr>\n",
       "      <th>812</th>\n",
       "      <td>TataIndicaV2</td>\n",
       "      <td>Tata</td>\n",
       "      <td>2009</td>\n",
       "      <td>110000</td>\n",
       "      <td>30000</td>\n",
       "      <td>Diesel</td>\n",
       "    </tr>\n",
       "    <tr>\n",
       "      <th>813</th>\n",
       "      <td>ToyotaCorollaAltis</td>\n",
       "      <td>Toyota</td>\n",
       "      <td>2009</td>\n",
       "      <td>300000</td>\n",
       "      <td>132000</td>\n",
       "      <td>Petrol</td>\n",
       "    </tr>\n",
       "    <tr>\n",
       "      <th>814</th>\n",
       "      <td>TataZestXM</td>\n",
       "      <td>Tata</td>\n",
       "      <td>2018</td>\n",
       "      <td>260000</td>\n",
       "      <td>27000</td>\n",
       "      <td>Diesel</td>\n",
       "    </tr>\n",
       "    <tr>\n",
       "      <th>815</th>\n",
       "      <td>MahindraQuantoC8</td>\n",
       "      <td>Mahindra</td>\n",
       "      <td>2013</td>\n",
       "      <td>390000</td>\n",
       "      <td>40000</td>\n",
       "      <td>Diesel</td>\n",
       "    </tr>\n",
       "  </tbody>\n",
       "</table>\n",
       "<p>816 rows × 6 columns</p>\n",
       "</div>"
      ],
      "text/plain": [
       "                     name   company  year   Price  kms_driven fuel_type\n",
       "0       HyundaiSantroXing   Hyundai  2007   80000       45000    Petrol\n",
       "1       MahindraJeepCL550  Mahindra  2006  425000          40    Diesel\n",
       "2         HyundaiGrandi10   Hyundai  2014  325000       28000    Petrol\n",
       "3    FordEcoSportTitanium      Ford  2014  575000       36000    Diesel\n",
       "4                FordFigo      Ford  2012  175000       41000    Diesel\n",
       "..                    ...       ...   ...     ...         ...       ...\n",
       "811      MarutiSuzukiRitz    Maruti  2011  270000       50000    Petrol\n",
       "812          TataIndicaV2      Tata  2009  110000       30000    Diesel\n",
       "813    ToyotaCorollaAltis    Toyota  2009  300000      132000    Petrol\n",
       "814            TataZestXM      Tata  2018  260000       27000    Diesel\n",
       "815      MahindraQuantoC8  Mahindra  2013  390000       40000    Diesel\n",
       "\n",
       "[816 rows x 6 columns]"
      ]
     },
     "execution_count": 27,
     "metadata": {},
     "output_type": "execute_result"
    }
   ],
   "source": [
    "car"
   ]
  },
  {
   "cell_type": "code",
   "execution_count": 28,
   "id": "0e03e3b7-18bf-469e-b2c1-89ff610ec24d",
   "metadata": {},
   "outputs": [],
   "source": [
    "car=car[car['Price']<6e6].reset_index(drop=True)"
   ]
  },
  {
   "cell_type": "code",
   "execution_count": 29,
   "id": "02c01a05-93ed-417e-bf83-80ee63fcf44d",
   "metadata": {},
   "outputs": [
    {
     "data": {
      "text/html": [
       "<div>\n",
       "<style scoped>\n",
       "    .dataframe tbody tr th:only-of-type {\n",
       "        vertical-align: middle;\n",
       "    }\n",
       "\n",
       "    .dataframe tbody tr th {\n",
       "        vertical-align: top;\n",
       "    }\n",
       "\n",
       "    .dataframe thead th {\n",
       "        text-align: right;\n",
       "    }\n",
       "</style>\n",
       "<table border=\"1\" class=\"dataframe\">\n",
       "  <thead>\n",
       "    <tr style=\"text-align: right;\">\n",
       "      <th></th>\n",
       "      <th>name</th>\n",
       "      <th>company</th>\n",
       "      <th>year</th>\n",
       "      <th>Price</th>\n",
       "      <th>kms_driven</th>\n",
       "      <th>fuel_type</th>\n",
       "    </tr>\n",
       "  </thead>\n",
       "  <tbody>\n",
       "    <tr>\n",
       "      <th>0</th>\n",
       "      <td>HyundaiSantroXing</td>\n",
       "      <td>Hyundai</td>\n",
       "      <td>2007</td>\n",
       "      <td>80000</td>\n",
       "      <td>45000</td>\n",
       "      <td>Petrol</td>\n",
       "    </tr>\n",
       "    <tr>\n",
       "      <th>1</th>\n",
       "      <td>MahindraJeepCL550</td>\n",
       "      <td>Mahindra</td>\n",
       "      <td>2006</td>\n",
       "      <td>425000</td>\n",
       "      <td>40</td>\n",
       "      <td>Diesel</td>\n",
       "    </tr>\n",
       "    <tr>\n",
       "      <th>2</th>\n",
       "      <td>HyundaiGrandi10</td>\n",
       "      <td>Hyundai</td>\n",
       "      <td>2014</td>\n",
       "      <td>325000</td>\n",
       "      <td>28000</td>\n",
       "      <td>Petrol</td>\n",
       "    </tr>\n",
       "    <tr>\n",
       "      <th>3</th>\n",
       "      <td>FordEcoSportTitanium</td>\n",
       "      <td>Ford</td>\n",
       "      <td>2014</td>\n",
       "      <td>575000</td>\n",
       "      <td>36000</td>\n",
       "      <td>Diesel</td>\n",
       "    </tr>\n",
       "    <tr>\n",
       "      <th>4</th>\n",
       "      <td>FordFigo</td>\n",
       "      <td>Ford</td>\n",
       "      <td>2012</td>\n",
       "      <td>175000</td>\n",
       "      <td>41000</td>\n",
       "      <td>Diesel</td>\n",
       "    </tr>\n",
       "    <tr>\n",
       "      <th>...</th>\n",
       "      <td>...</td>\n",
       "      <td>...</td>\n",
       "      <td>...</td>\n",
       "      <td>...</td>\n",
       "      <td>...</td>\n",
       "      <td>...</td>\n",
       "    </tr>\n",
       "    <tr>\n",
       "      <th>810</th>\n",
       "      <td>MarutiSuzukiRitz</td>\n",
       "      <td>Maruti</td>\n",
       "      <td>2011</td>\n",
       "      <td>270000</td>\n",
       "      <td>50000</td>\n",
       "      <td>Petrol</td>\n",
       "    </tr>\n",
       "    <tr>\n",
       "      <th>811</th>\n",
       "      <td>TataIndicaV2</td>\n",
       "      <td>Tata</td>\n",
       "      <td>2009</td>\n",
       "      <td>110000</td>\n",
       "      <td>30000</td>\n",
       "      <td>Diesel</td>\n",
       "    </tr>\n",
       "    <tr>\n",
       "      <th>812</th>\n",
       "      <td>ToyotaCorollaAltis</td>\n",
       "      <td>Toyota</td>\n",
       "      <td>2009</td>\n",
       "      <td>300000</td>\n",
       "      <td>132000</td>\n",
       "      <td>Petrol</td>\n",
       "    </tr>\n",
       "    <tr>\n",
       "      <th>813</th>\n",
       "      <td>TataZestXM</td>\n",
       "      <td>Tata</td>\n",
       "      <td>2018</td>\n",
       "      <td>260000</td>\n",
       "      <td>27000</td>\n",
       "      <td>Diesel</td>\n",
       "    </tr>\n",
       "    <tr>\n",
       "      <th>814</th>\n",
       "      <td>MahindraQuantoC8</td>\n",
       "      <td>Mahindra</td>\n",
       "      <td>2013</td>\n",
       "      <td>390000</td>\n",
       "      <td>40000</td>\n",
       "      <td>Diesel</td>\n",
       "    </tr>\n",
       "  </tbody>\n",
       "</table>\n",
       "<p>815 rows × 6 columns</p>\n",
       "</div>"
      ],
      "text/plain": [
       "                     name   company  year   Price  kms_driven fuel_type\n",
       "0       HyundaiSantroXing   Hyundai  2007   80000       45000    Petrol\n",
       "1       MahindraJeepCL550  Mahindra  2006  425000          40    Diesel\n",
       "2         HyundaiGrandi10   Hyundai  2014  325000       28000    Petrol\n",
       "3    FordEcoSportTitanium      Ford  2014  575000       36000    Diesel\n",
       "4                FordFigo      Ford  2012  175000       41000    Diesel\n",
       "..                    ...       ...   ...     ...         ...       ...\n",
       "810      MarutiSuzukiRitz    Maruti  2011  270000       50000    Petrol\n",
       "811          TataIndicaV2      Tata  2009  110000       30000    Diesel\n",
       "812    ToyotaCorollaAltis    Toyota  2009  300000      132000    Petrol\n",
       "813            TataZestXM      Tata  2018  260000       27000    Diesel\n",
       "814      MahindraQuantoC8  Mahindra  2013  390000       40000    Diesel\n",
       "\n",
       "[815 rows x 6 columns]"
      ]
     },
     "execution_count": 29,
     "metadata": {},
     "output_type": "execute_result"
    }
   ],
   "source": [
    "car"
   ]
  },
  {
   "cell_type": "code",
   "execution_count": 30,
   "id": "2e88743a-21a4-4469-9e1e-3a7aca6636c4",
   "metadata": {},
   "outputs": [
    {
     "data": {
      "text/html": [
       "<div>\n",
       "<style scoped>\n",
       "    .dataframe tbody tr th:only-of-type {\n",
       "        vertical-align: middle;\n",
       "    }\n",
       "\n",
       "    .dataframe tbody tr th {\n",
       "        vertical-align: top;\n",
       "    }\n",
       "\n",
       "    .dataframe thead th {\n",
       "        text-align: right;\n",
       "    }\n",
       "</style>\n",
       "<table border=\"1\" class=\"dataframe\">\n",
       "  <thead>\n",
       "    <tr style=\"text-align: right;\">\n",
       "      <th></th>\n",
       "      <th>year</th>\n",
       "      <th>Price</th>\n",
       "      <th>kms_driven</th>\n",
       "    </tr>\n",
       "  </thead>\n",
       "  <tbody>\n",
       "    <tr>\n",
       "      <th>count</th>\n",
       "      <td>815.000000</td>\n",
       "      <td>8.150000e+02</td>\n",
       "      <td>815.000000</td>\n",
       "    </tr>\n",
       "    <tr>\n",
       "      <th>mean</th>\n",
       "      <td>2012.442945</td>\n",
       "      <td>4.017933e+05</td>\n",
       "      <td>46277.096933</td>\n",
       "    </tr>\n",
       "    <tr>\n",
       "      <th>std</th>\n",
       "      <td>4.005079</td>\n",
       "      <td>3.815888e+05</td>\n",
       "      <td>34318.459638</td>\n",
       "    </tr>\n",
       "    <tr>\n",
       "      <th>min</th>\n",
       "      <td>1995.000000</td>\n",
       "      <td>3.000000e+04</td>\n",
       "      <td>0.000000</td>\n",
       "    </tr>\n",
       "    <tr>\n",
       "      <th>25%</th>\n",
       "      <td>2010.000000</td>\n",
       "      <td>1.750000e+05</td>\n",
       "      <td>27000.000000</td>\n",
       "    </tr>\n",
       "    <tr>\n",
       "      <th>50%</th>\n",
       "      <td>2013.000000</td>\n",
       "      <td>2.999990e+05</td>\n",
       "      <td>41000.000000</td>\n",
       "    </tr>\n",
       "    <tr>\n",
       "      <th>75%</th>\n",
       "      <td>2015.000000</td>\n",
       "      <td>4.900000e+05</td>\n",
       "      <td>56879.000000</td>\n",
       "    </tr>\n",
       "    <tr>\n",
       "      <th>max</th>\n",
       "      <td>2019.000000</td>\n",
       "      <td>3.100000e+06</td>\n",
       "      <td>400000.000000</td>\n",
       "    </tr>\n",
       "  </tbody>\n",
       "</table>\n",
       "</div>"
      ],
      "text/plain": [
       "              year         Price     kms_driven\n",
       "count   815.000000  8.150000e+02     815.000000\n",
       "mean   2012.442945  4.017933e+05   46277.096933\n",
       "std       4.005079  3.815888e+05   34318.459638\n",
       "min    1995.000000  3.000000e+04       0.000000\n",
       "25%    2010.000000  1.750000e+05   27000.000000\n",
       "50%    2013.000000  2.999990e+05   41000.000000\n",
       "75%    2015.000000  4.900000e+05   56879.000000\n",
       "max    2019.000000  3.100000e+06  400000.000000"
      ]
     },
     "execution_count": 30,
     "metadata": {},
     "output_type": "execute_result"
    }
   ],
   "source": [
    "car.describe()"
   ]
  },
  {
   "cell_type": "code",
   "execution_count": 31,
   "id": "76cc5a99-bc0a-4d41-8a04-e887c9762338",
   "metadata": {},
   "outputs": [],
   "source": [
    "car.to_csv('processed_data.csv')"
   ]
  },
  {
   "cell_type": "markdown",
   "id": "818ea21d-789b-477e-a420-01c205c632d4",
   "metadata": {},
   "source": [
    "##develop the model"
   ]
  },
  {
   "cell_type": "code",
   "execution_count": 32,
   "id": "52e5a6fb-5adf-4b4c-9f23-e83e4c671035",
   "metadata": {},
   "outputs": [],
   "source": [
    "x=car.drop(columns='Price')\n",
    "y=car['Price']"
   ]
  },
  {
   "cell_type": "code",
   "execution_count": 33,
   "id": "97f72645-a167-4c53-b458-6bf45151f280",
   "metadata": {},
   "outputs": [
    {
     "data": {
      "text/html": [
       "<div>\n",
       "<style scoped>\n",
       "    .dataframe tbody tr th:only-of-type {\n",
       "        vertical-align: middle;\n",
       "    }\n",
       "\n",
       "    .dataframe tbody tr th {\n",
       "        vertical-align: top;\n",
       "    }\n",
       "\n",
       "    .dataframe thead th {\n",
       "        text-align: right;\n",
       "    }\n",
       "</style>\n",
       "<table border=\"1\" class=\"dataframe\">\n",
       "  <thead>\n",
       "    <tr style=\"text-align: right;\">\n",
       "      <th></th>\n",
       "      <th>name</th>\n",
       "      <th>company</th>\n",
       "      <th>year</th>\n",
       "      <th>kms_driven</th>\n",
       "      <th>fuel_type</th>\n",
       "    </tr>\n",
       "  </thead>\n",
       "  <tbody>\n",
       "    <tr>\n",
       "      <th>0</th>\n",
       "      <td>HyundaiSantroXing</td>\n",
       "      <td>Hyundai</td>\n",
       "      <td>2007</td>\n",
       "      <td>45000</td>\n",
       "      <td>Petrol</td>\n",
       "    </tr>\n",
       "    <tr>\n",
       "      <th>1</th>\n",
       "      <td>MahindraJeepCL550</td>\n",
       "      <td>Mahindra</td>\n",
       "      <td>2006</td>\n",
       "      <td>40</td>\n",
       "      <td>Diesel</td>\n",
       "    </tr>\n",
       "    <tr>\n",
       "      <th>2</th>\n",
       "      <td>HyundaiGrandi10</td>\n",
       "      <td>Hyundai</td>\n",
       "      <td>2014</td>\n",
       "      <td>28000</td>\n",
       "      <td>Petrol</td>\n",
       "    </tr>\n",
       "    <tr>\n",
       "      <th>3</th>\n",
       "      <td>FordEcoSportTitanium</td>\n",
       "      <td>Ford</td>\n",
       "      <td>2014</td>\n",
       "      <td>36000</td>\n",
       "      <td>Diesel</td>\n",
       "    </tr>\n",
       "    <tr>\n",
       "      <th>4</th>\n",
       "      <td>FordFigo</td>\n",
       "      <td>Ford</td>\n",
       "      <td>2012</td>\n",
       "      <td>41000</td>\n",
       "      <td>Diesel</td>\n",
       "    </tr>\n",
       "    <tr>\n",
       "      <th>...</th>\n",
       "      <td>...</td>\n",
       "      <td>...</td>\n",
       "      <td>...</td>\n",
       "      <td>...</td>\n",
       "      <td>...</td>\n",
       "    </tr>\n",
       "    <tr>\n",
       "      <th>810</th>\n",
       "      <td>MarutiSuzukiRitz</td>\n",
       "      <td>Maruti</td>\n",
       "      <td>2011</td>\n",
       "      <td>50000</td>\n",
       "      <td>Petrol</td>\n",
       "    </tr>\n",
       "    <tr>\n",
       "      <th>811</th>\n",
       "      <td>TataIndicaV2</td>\n",
       "      <td>Tata</td>\n",
       "      <td>2009</td>\n",
       "      <td>30000</td>\n",
       "      <td>Diesel</td>\n",
       "    </tr>\n",
       "    <tr>\n",
       "      <th>812</th>\n",
       "      <td>ToyotaCorollaAltis</td>\n",
       "      <td>Toyota</td>\n",
       "      <td>2009</td>\n",
       "      <td>132000</td>\n",
       "      <td>Petrol</td>\n",
       "    </tr>\n",
       "    <tr>\n",
       "      <th>813</th>\n",
       "      <td>TataZestXM</td>\n",
       "      <td>Tata</td>\n",
       "      <td>2018</td>\n",
       "      <td>27000</td>\n",
       "      <td>Diesel</td>\n",
       "    </tr>\n",
       "    <tr>\n",
       "      <th>814</th>\n",
       "      <td>MahindraQuantoC8</td>\n",
       "      <td>Mahindra</td>\n",
       "      <td>2013</td>\n",
       "      <td>40000</td>\n",
       "      <td>Diesel</td>\n",
       "    </tr>\n",
       "  </tbody>\n",
       "</table>\n",
       "<p>815 rows × 5 columns</p>\n",
       "</div>"
      ],
      "text/plain": [
       "                     name   company  year  kms_driven fuel_type\n",
       "0       HyundaiSantroXing   Hyundai  2007       45000    Petrol\n",
       "1       MahindraJeepCL550  Mahindra  2006          40    Diesel\n",
       "2         HyundaiGrandi10   Hyundai  2014       28000    Petrol\n",
       "3    FordEcoSportTitanium      Ford  2014       36000    Diesel\n",
       "4                FordFigo      Ford  2012       41000    Diesel\n",
       "..                    ...       ...   ...         ...       ...\n",
       "810      MarutiSuzukiRitz    Maruti  2011       50000    Petrol\n",
       "811          TataIndicaV2      Tata  2009       30000    Diesel\n",
       "812    ToyotaCorollaAltis    Toyota  2009      132000    Petrol\n",
       "813            TataZestXM      Tata  2018       27000    Diesel\n",
       "814      MahindraQuantoC8  Mahindra  2013       40000    Diesel\n",
       "\n",
       "[815 rows x 5 columns]"
      ]
     },
     "execution_count": 33,
     "metadata": {},
     "output_type": "execute_result"
    }
   ],
   "source": [
    "x"
   ]
  },
  {
   "cell_type": "code",
   "execution_count": 34,
   "id": "ba3a753a-ca72-40f8-af0b-a43ac2e34638",
   "metadata": {},
   "outputs": [
    {
     "data": {
      "text/plain": [
       "0       80000\n",
       "1      425000\n",
       "2      325000\n",
       "3      575000\n",
       "4      175000\n",
       "        ...  \n",
       "810    270000\n",
       "811    110000\n",
       "812    300000\n",
       "813    260000\n",
       "814    390000\n",
       "Name: Price, Length: 815, dtype: int32"
      ]
     },
     "execution_count": 34,
     "metadata": {},
     "output_type": "execute_result"
    }
   ],
   "source": [
    "y"
   ]
  },
  {
   "cell_type": "code",
   "execution_count": 35,
   "id": "2b273c02-b948-46e8-a897-24f098c8a82a",
   "metadata": {},
   "outputs": [],
   "source": [
    "from sklearn.model_selection import train_test_split\n",
    "x_train,x_test,y_train,y_test=train_test_split(x,y,test_size=0.2)"
   ]
  },
  {
   "cell_type": "code",
   "execution_count": 36,
   "id": "060e80c5-d889-462f-b4ee-36d8e4b6ed67",
   "metadata": {},
   "outputs": [],
   "source": [
    "from sklearn.linear_model import LinearRegression\n",
    "from sklearn.metrics import r2_score\n",
    "from sklearn.preprocessing import OneHotEncoder\n",
    "from sklearn.compose import make_column_transformer\n",
    "from sklearn.pipeline import make_pipeline"
   ]
  },
  {
   "cell_type": "code",
   "execution_count": 38,
   "id": "e0d65734-a2ca-4bc2-82fd-9af1d1c13097",
   "metadata": {},
   "outputs": [
    {
     "data": {
      "text/html": [
       "<style>#sk-container-id-2 {color: black;}#sk-container-id-2 pre{padding: 0;}#sk-container-id-2 div.sk-toggleable {background-color: white;}#sk-container-id-2 label.sk-toggleable__label {cursor: pointer;display: block;width: 100%;margin-bottom: 0;padding: 0.3em;box-sizing: border-box;text-align: center;}#sk-container-id-2 label.sk-toggleable__label-arrow:before {content: \"▸\";float: left;margin-right: 0.25em;color: #696969;}#sk-container-id-2 label.sk-toggleable__label-arrow:hover:before {color: black;}#sk-container-id-2 div.sk-estimator:hover label.sk-toggleable__label-arrow:before {color: black;}#sk-container-id-2 div.sk-toggleable__content {max-height: 0;max-width: 0;overflow: hidden;text-align: left;background-color: #f0f8ff;}#sk-container-id-2 div.sk-toggleable__content pre {margin: 0.2em;color: black;border-radius: 0.25em;background-color: #f0f8ff;}#sk-container-id-2 input.sk-toggleable__control:checked~div.sk-toggleable__content {max-height: 200px;max-width: 100%;overflow: auto;}#sk-container-id-2 input.sk-toggleable__control:checked~label.sk-toggleable__label-arrow:before {content: \"▾\";}#sk-container-id-2 div.sk-estimator input.sk-toggleable__control:checked~label.sk-toggleable__label {background-color: #d4ebff;}#sk-container-id-2 div.sk-label input.sk-toggleable__control:checked~label.sk-toggleable__label {background-color: #d4ebff;}#sk-container-id-2 input.sk-hidden--visually {border: 0;clip: rect(1px 1px 1px 1px);clip: rect(1px, 1px, 1px, 1px);height: 1px;margin: -1px;overflow: hidden;padding: 0;position: absolute;width: 1px;}#sk-container-id-2 div.sk-estimator {font-family: monospace;background-color: #f0f8ff;border: 1px dotted black;border-radius: 0.25em;box-sizing: border-box;margin-bottom: 0.5em;}#sk-container-id-2 div.sk-estimator:hover {background-color: #d4ebff;}#sk-container-id-2 div.sk-parallel-item::after {content: \"\";width: 100%;border-bottom: 1px solid gray;flex-grow: 1;}#sk-container-id-2 div.sk-label:hover label.sk-toggleable__label {background-color: #d4ebff;}#sk-container-id-2 div.sk-serial::before {content: \"\";position: absolute;border-left: 1px solid gray;box-sizing: border-box;top: 0;bottom: 0;left: 50%;z-index: 0;}#sk-container-id-2 div.sk-serial {display: flex;flex-direction: column;align-items: center;background-color: white;padding-right: 0.2em;padding-left: 0.2em;position: relative;}#sk-container-id-2 div.sk-item {position: relative;z-index: 1;}#sk-container-id-2 div.sk-parallel {display: flex;align-items: stretch;justify-content: center;background-color: white;position: relative;}#sk-container-id-2 div.sk-item::before, #sk-container-id-2 div.sk-parallel-item::before {content: \"\";position: absolute;border-left: 1px solid gray;box-sizing: border-box;top: 0;bottom: 0;left: 50%;z-index: -1;}#sk-container-id-2 div.sk-parallel-item {display: flex;flex-direction: column;z-index: 1;position: relative;background-color: white;}#sk-container-id-2 div.sk-parallel-item:first-child::after {align-self: flex-end;width: 50%;}#sk-container-id-2 div.sk-parallel-item:last-child::after {align-self: flex-start;width: 50%;}#sk-container-id-2 div.sk-parallel-item:only-child::after {width: 0;}#sk-container-id-2 div.sk-dashed-wrapped {border: 1px dashed gray;margin: 0 0.4em 0.5em 0.4em;box-sizing: border-box;padding-bottom: 0.4em;background-color: white;}#sk-container-id-2 div.sk-label label {font-family: monospace;font-weight: bold;display: inline-block;line-height: 1.2em;}#sk-container-id-2 div.sk-label-container {text-align: center;}#sk-container-id-2 div.sk-container {/* jupyter's `normalize.less` sets `[hidden] { display: none; }` but bootstrap.min.css set `[hidden] { display: none !important; }` so we also need the `!important` here to be able to override the default hidden behavior on the sphinx rendered scikit-learn.org. See: https://github.com/scikit-learn/scikit-learn/issues/21755 */display: inline-block !important;position: relative;}#sk-container-id-2 div.sk-text-repr-fallback {display: none;}</style><div id=\"sk-container-id-2\" class=\"sk-top-container\"><div class=\"sk-text-repr-fallback\"><pre>OneHotEncoder()</pre><b>In a Jupyter environment, please rerun this cell to show the HTML representation or trust the notebook. <br />On GitHub, the HTML representation is unable to render, please try loading this page with nbviewer.org.</b></div><div class=\"sk-container\" hidden><div class=\"sk-item\"><div class=\"sk-estimator sk-toggleable\"><input class=\"sk-toggleable__control sk-hidden--visually\" id=\"sk-estimator-id-2\" type=\"checkbox\" checked><label for=\"sk-estimator-id-2\" class=\"sk-toggleable__label sk-toggleable__label-arrow\">OneHotEncoder</label><div class=\"sk-toggleable__content\"><pre>OneHotEncoder()</pre></div></div></div></div></div>"
      ],
      "text/plain": [
       "OneHotEncoder()"
      ]
     },
     "execution_count": 38,
     "metadata": {},
     "output_type": "execute_result"
    }
   ],
   "source": [
    "ohe=OneHotEncoder()\n",
    "ohe.fit(x[['name','company','fuel_type']])"
   ]
  },
  {
   "cell_type": "code",
   "execution_count": 39,
   "id": "58247c9f-b16b-4c11-8811-ad2e5e0a91c8",
   "metadata": {},
   "outputs": [
    {
     "data": {
      "text/plain": [
       "[array(['AudiA3Cabriolet', 'AudiA41.8', 'AudiA42.0', 'AudiA62.0', 'AudiA8',\n",
       "        'AudiQ32.0', 'AudiQ52.0', 'AudiQ7', 'BMW3Series', 'BMW5Series',\n",
       "        'BMW7Series', 'BMWX1', 'BMWX1sDrive20d', 'BMWX1xDrive20d',\n",
       "        'ChevroletBeat', 'ChevroletBeatDiesel', 'ChevroletBeatLS',\n",
       "        'ChevroletBeatLT', 'ChevroletBeatPS', 'ChevroletCruzeLTZ',\n",
       "        'ChevroletEnjoy', 'ChevroletEnjoy1.4', 'ChevroletSail1.2',\n",
       "        'ChevroletSailUVA', 'ChevroletSpark', 'ChevroletSpark1.0',\n",
       "        'ChevroletSparkLS', 'ChevroletSparkLT', 'ChevroletTaveraLS',\n",
       "        'ChevroletTaveraNeo', 'DatsunGOT', 'DatsunGoPlus', 'DatsunRediGO',\n",
       "        'FiatLineaEmotion', 'FiatPetraELX', 'FiatPuntoEmotion',\n",
       "        'ForceMotorsForce', 'ForceMotorsOne', 'FordEcoSport',\n",
       "        'FordEcoSportAmbiente', 'FordEcoSportTitanium',\n",
       "        'FordEcoSportTrend', 'FordEndeavor4x4', 'FordFiesta',\n",
       "        'FordFiestaSXi', 'FordFigo', 'FordFigoDiesel', 'FordFigoDuratorq',\n",
       "        'FordFigoPetrol', 'FordFusion1.4', 'FordIkon1.3', 'FordIkon1.6',\n",
       "        'HindustanMotorsAmbassador', 'HondaAccord', 'HondaAmaze',\n",
       "        'HondaAmaze1.2', 'HondaAmaze1.5', 'HondaBrio', 'HondaBrioV',\n",
       "        'HondaBrioVX', 'HondaCity', 'HondaCity1.5', 'HondaCitySV',\n",
       "        'HondaCityVX', 'HondaCityZX', 'HondaJazzS', 'HondaJazzVX',\n",
       "        'HondaMobilio', 'HondaMobilioS', 'HondaWRV', 'HyundaiAccent',\n",
       "        'HyundaiAccentExecutive', 'HyundaiAccentGLE', 'HyundaiAccentGLX',\n",
       "        'HyundaiCreta', 'HyundaiCreta1.6', 'HyundaiElantra1.8',\n",
       "        'HyundaiElantraSX', 'HyundaiElitei20', 'HyundaiEon', 'HyundaiEonD',\n",
       "        'HyundaiEonEra', 'HyundaiEonMagna', 'HyundaiEonSportz',\n",
       "        'HyundaiFluidicVerna', 'HyundaiGetz', 'HyundaiGetzGLE',\n",
       "        'HyundaiGetzPrime', 'HyundaiGrandi10', 'HyundaiSantro',\n",
       "        'HyundaiSantroAE', 'HyundaiSantroXing', 'HyundaiSonataTransform',\n",
       "        'HyundaiVerna', 'HyundaiVerna1.4', 'HyundaiVerna1.6',\n",
       "        'HyundaiVernaFluidic', 'HyundaiVernaTransform', 'HyundaiVernaVGT',\n",
       "        'HyundaiXcentBase', 'HyundaiXcentSX', 'Hyundaii10',\n",
       "        'Hyundaii10Era', 'Hyundaii10Magna', 'Hyundaii10Sportz',\n",
       "        'Hyundaii20', 'Hyundaii20Active', 'Hyundaii20Asta',\n",
       "        'Hyundaii20Magna', 'Hyundaii20Select', 'Hyundaii20Sportz',\n",
       "        'JaguarXEXE', 'JaguarXF2.2', 'JeepWranglerUnlimited',\n",
       "        'LandRoverFreelander', 'MahindraBoleroDI', 'MahindraBoleroPower',\n",
       "        'MahindraBoleroSLE', 'MahindraJeepCL550', 'MahindraJeepMM',\n",
       "        'MahindraKUV100', 'MahindraKUV100K8', 'MahindraLogan',\n",
       "        'MahindraLoganDiesel', 'MahindraQuantoC4', 'MahindraQuantoC8',\n",
       "        'MahindraScorpio', 'MahindraScorpio2.6', 'MahindraScorpioLX',\n",
       "        'MahindraScorpioS10', 'MahindraScorpioS4', 'MahindraScorpioSLE',\n",
       "        'MahindraScorpioSLX', 'MahindraScorpioVLX', 'MahindraScorpioVlx',\n",
       "        'MahindraScorpioW', 'MahindraTUV300T4', 'MahindraTUV300T8',\n",
       "        'MahindraTharCRDe', 'MahindraXUV500', 'MahindraXUV500W10',\n",
       "        'MahindraXUV500W6', 'MahindraXUV500W8', 'MahindraXyloD2',\n",
       "        'MahindraXyloE4', 'MahindraXyloE8', 'MarutiSuzuki800',\n",
       "        'MarutiSuzukiA', 'MarutiSuzukiAlto', 'MarutiSuzukiBaleno',\n",
       "        'MarutiSuzukiCelerio', 'MarutiSuzukiCiaz', 'MarutiSuzukiDzire',\n",
       "        'MarutiSuzukiEeco', 'MarutiSuzukiErtiga', 'MarutiSuzukiEsteem',\n",
       "        'MarutiSuzukiEstilo', 'MarutiSuzukiMaruti', 'MarutiSuzukiOmni',\n",
       "        'MarutiSuzukiRitz', 'MarutiSuzukiS', 'MarutiSuzukiSX4',\n",
       "        'MarutiSuzukiStingray', 'MarutiSuzukiSwift', 'MarutiSuzukiVersa',\n",
       "        'MarutiSuzukiVitara', 'MarutiSuzukiWagon', 'MarutiSuzukiZen',\n",
       "        'MercedesBenzA', 'MercedesBenzB', 'MercedesBenzC',\n",
       "        'MercedesBenzGLA', 'MiniCooperS', 'MitsubishiLancer1.8',\n",
       "        'MitsubishiPajeroSport', 'NissanMicraXL', 'NissanMicraXV',\n",
       "        'NissanSunny', 'NissanSunnyXL', 'NissanTerranoXL', 'NissanXTrail',\n",
       "        'RenaultDuster', 'RenaultDuster110', 'RenaultDuster110PS',\n",
       "        'RenaultDuster85', 'RenaultDuster85PS', 'RenaultDusterRxL',\n",
       "        'RenaultKwid', 'RenaultKwid1.0', 'RenaultKwidRXT',\n",
       "        'RenaultLodgy85', 'RenaultScalaRxL', 'SkodaFabia',\n",
       "        'SkodaFabia1.2L', 'SkodaFabiaClassic', 'SkodaLaura',\n",
       "        'SkodaOctaviaClassic', 'SkodaRapidElegance', 'SkodaSuperb1.8',\n",
       "        'SkodaYetiAmbition', 'TataAriaPleasure', 'TataBoltXM',\n",
       "        'TataIndica', 'TataIndicaV2', 'TataIndicaeV2', 'TataIndigoCS',\n",
       "        'TataIndigoLS', 'TataIndigoLX', 'TataIndigoMarina',\n",
       "        'TataIndigoeCS', 'TataManza', 'TataManzaAqua', 'TataManzaAura',\n",
       "        'TataManzaELAN', 'TataNano', 'TataNanoCx', 'TataNanoGenX',\n",
       "        'TataNanoLX', 'TataNanoLx', 'TataSumoGold', 'TataSumoGrande',\n",
       "        'TataSumoVicta', 'TataTiagoRevotorq', 'TataTiagoRevotron',\n",
       "        'TataTigorRevotron', 'TataVentureEX', 'TataVistaQuadrajet',\n",
       "        'TataZestQuadrajet', 'TataZestXE', 'TataZestXM', 'ToyotaCorolla',\n",
       "        'ToyotaCorollaAltis', 'ToyotaCorollaH2', 'ToyotaEtios',\n",
       "        'ToyotaEtiosG', 'ToyotaEtiosGD', 'ToyotaEtiosLiva',\n",
       "        'ToyotaFortuner', 'ToyotaFortuner3.0', 'ToyotaInnova2.0',\n",
       "        'ToyotaInnova2.5', 'ToyotaQualis', 'VolkswagenJettaComfortline',\n",
       "        'VolkswagenJettaHighline', 'VolkswagenPassatDiesel',\n",
       "        'VolkswagenPolo', 'VolkswagenPoloComfortline',\n",
       "        'VolkswagenPoloHighline', 'VolkswagenPoloHighline1.2L',\n",
       "        'VolkswagenPoloTrendline', 'VolkswagenVentoComfortline',\n",
       "        'VolkswagenVentoHighline', 'VolkswagenVentoKonekt',\n",
       "        'VolvoS80Summum'], dtype=object),\n",
       " array(['Audi', 'BMW', 'Chevrolet', 'Datsun', 'Fiat', 'Force', 'Ford',\n",
       "        'Hindustan', 'Honda', 'Hyundai', 'Jaguar', 'Jeep', 'Land',\n",
       "        'Mahindra', 'Maruti', 'Mercedes', 'Mini', 'Mitsubishi', 'Nissan',\n",
       "        'Renault', 'Skoda', 'Tata', 'Toyota', 'Volkswagen', 'Volvo'],\n",
       "       dtype=object),\n",
       " array(['Diesel', 'LPG', 'Petrol'], dtype=object)]"
      ]
     },
     "execution_count": 39,
     "metadata": {},
     "output_type": "execute_result"
    }
   ],
   "source": [
    "ohe.categories_"
   ]
  },
  {
   "cell_type": "code",
   "execution_count": 40,
   "id": "5720ebf7-c54b-462a-ba14-d8a2a21e0387",
   "metadata": {},
   "outputs": [],
   "source": [
    "column_trans=make_column_transformer((OneHotEncoder(categories=ohe.categories_),['name','company','fuel_type']),remainder='passthrough')"
   ]
  },
  {
   "cell_type": "code",
   "execution_count": 41,
   "id": "47791d70-f8d7-419a-8d05-7c9f334c21bd",
   "metadata": {},
   "outputs": [],
   "source": [
    "lr=LinearRegression()"
   ]
  },
  {
   "cell_type": "code",
   "execution_count": 42,
   "id": "e286c5f5-a193-45fa-9323-1fffc0a7ddd4",
   "metadata": {},
   "outputs": [],
   "source": [
    "pipe=make_pipeline(column_trans,lr)"
   ]
  },
  {
   "cell_type": "code",
   "execution_count": 43,
   "id": "674a0e4b-c782-4ef0-9826-c9ac4270f368",
   "metadata": {},
   "outputs": [
    {
     "data": {
      "text/html": [
       "<style>#sk-container-id-3 {color: black;}#sk-container-id-3 pre{padding: 0;}#sk-container-id-3 div.sk-toggleable {background-color: white;}#sk-container-id-3 label.sk-toggleable__label {cursor: pointer;display: block;width: 100%;margin-bottom: 0;padding: 0.3em;box-sizing: border-box;text-align: center;}#sk-container-id-3 label.sk-toggleable__label-arrow:before {content: \"▸\";float: left;margin-right: 0.25em;color: #696969;}#sk-container-id-3 label.sk-toggleable__label-arrow:hover:before {color: black;}#sk-container-id-3 div.sk-estimator:hover label.sk-toggleable__label-arrow:before {color: black;}#sk-container-id-3 div.sk-toggleable__content {max-height: 0;max-width: 0;overflow: hidden;text-align: left;background-color: #f0f8ff;}#sk-container-id-3 div.sk-toggleable__content pre {margin: 0.2em;color: black;border-radius: 0.25em;background-color: #f0f8ff;}#sk-container-id-3 input.sk-toggleable__control:checked~div.sk-toggleable__content {max-height: 200px;max-width: 100%;overflow: auto;}#sk-container-id-3 input.sk-toggleable__control:checked~label.sk-toggleable__label-arrow:before {content: \"▾\";}#sk-container-id-3 div.sk-estimator input.sk-toggleable__control:checked~label.sk-toggleable__label {background-color: #d4ebff;}#sk-container-id-3 div.sk-label input.sk-toggleable__control:checked~label.sk-toggleable__label {background-color: #d4ebff;}#sk-container-id-3 input.sk-hidden--visually {border: 0;clip: rect(1px 1px 1px 1px);clip: rect(1px, 1px, 1px, 1px);height: 1px;margin: -1px;overflow: hidden;padding: 0;position: absolute;width: 1px;}#sk-container-id-3 div.sk-estimator {font-family: monospace;background-color: #f0f8ff;border: 1px dotted black;border-radius: 0.25em;box-sizing: border-box;margin-bottom: 0.5em;}#sk-container-id-3 div.sk-estimator:hover {background-color: #d4ebff;}#sk-container-id-3 div.sk-parallel-item::after {content: \"\";width: 100%;border-bottom: 1px solid gray;flex-grow: 1;}#sk-container-id-3 div.sk-label:hover label.sk-toggleable__label {background-color: #d4ebff;}#sk-container-id-3 div.sk-serial::before {content: \"\";position: absolute;border-left: 1px solid gray;box-sizing: border-box;top: 0;bottom: 0;left: 50%;z-index: 0;}#sk-container-id-3 div.sk-serial {display: flex;flex-direction: column;align-items: center;background-color: white;padding-right: 0.2em;padding-left: 0.2em;position: relative;}#sk-container-id-3 div.sk-item {position: relative;z-index: 1;}#sk-container-id-3 div.sk-parallel {display: flex;align-items: stretch;justify-content: center;background-color: white;position: relative;}#sk-container-id-3 div.sk-item::before, #sk-container-id-3 div.sk-parallel-item::before {content: \"\";position: absolute;border-left: 1px solid gray;box-sizing: border-box;top: 0;bottom: 0;left: 50%;z-index: -1;}#sk-container-id-3 div.sk-parallel-item {display: flex;flex-direction: column;z-index: 1;position: relative;background-color: white;}#sk-container-id-3 div.sk-parallel-item:first-child::after {align-self: flex-end;width: 50%;}#sk-container-id-3 div.sk-parallel-item:last-child::after {align-self: flex-start;width: 50%;}#sk-container-id-3 div.sk-parallel-item:only-child::after {width: 0;}#sk-container-id-3 div.sk-dashed-wrapped {border: 1px dashed gray;margin: 0 0.4em 0.5em 0.4em;box-sizing: border-box;padding-bottom: 0.4em;background-color: white;}#sk-container-id-3 div.sk-label label {font-family: monospace;font-weight: bold;display: inline-block;line-height: 1.2em;}#sk-container-id-3 div.sk-label-container {text-align: center;}#sk-container-id-3 div.sk-container {/* jupyter's `normalize.less` sets `[hidden] { display: none; }` but bootstrap.min.css set `[hidden] { display: none !important; }` so we also need the `!important` here to be able to override the default hidden behavior on the sphinx rendered scikit-learn.org. See: https://github.com/scikit-learn/scikit-learn/issues/21755 */display: inline-block !important;position: relative;}#sk-container-id-3 div.sk-text-repr-fallback {display: none;}</style><div id=\"sk-container-id-3\" class=\"sk-top-container\"><div class=\"sk-text-repr-fallback\"><pre>Pipeline(steps=[(&#x27;columntransformer&#x27;,\n",
       "                 ColumnTransformer(remainder=&#x27;passthrough&#x27;,\n",
       "                                   transformers=[(&#x27;onehotencoder&#x27;,\n",
       "                                                  OneHotEncoder(categories=[array([&#x27;AudiA3Cabriolet&#x27;, &#x27;AudiA41.8&#x27;, &#x27;AudiA42.0&#x27;, &#x27;AudiA62.0&#x27;, &#x27;AudiA8&#x27;,\n",
       "       &#x27;AudiQ32.0&#x27;, &#x27;AudiQ52.0&#x27;, &#x27;AudiQ7&#x27;, &#x27;BMW3Series&#x27;, &#x27;BMW5Series&#x27;,\n",
       "       &#x27;BMW7Series&#x27;, &#x27;BMWX1&#x27;, &#x27;BMWX1sDrive20d&#x27;, &#x27;BMWX1xDrive20d&#x27;,\n",
       "       &#x27;ChevroletBeat&#x27;, &#x27;ChevroletBeat...\n",
       "                                                                            array([&#x27;Audi&#x27;, &#x27;BMW&#x27;, &#x27;Chevrolet&#x27;, &#x27;Datsun&#x27;, &#x27;Fiat&#x27;, &#x27;Force&#x27;, &#x27;Ford&#x27;,\n",
       "       &#x27;Hindustan&#x27;, &#x27;Honda&#x27;, &#x27;Hyundai&#x27;, &#x27;Jaguar&#x27;, &#x27;Jeep&#x27;, &#x27;Land&#x27;,\n",
       "       &#x27;Mahindra&#x27;, &#x27;Maruti&#x27;, &#x27;Mercedes&#x27;, &#x27;Mini&#x27;, &#x27;Mitsubishi&#x27;, &#x27;Nissan&#x27;,\n",
       "       &#x27;Renault&#x27;, &#x27;Skoda&#x27;, &#x27;Tata&#x27;, &#x27;Toyota&#x27;, &#x27;Volkswagen&#x27;, &#x27;Volvo&#x27;],\n",
       "      dtype=object),\n",
       "                                                                            array([&#x27;Diesel&#x27;, &#x27;LPG&#x27;, &#x27;Petrol&#x27;], dtype=object)]),\n",
       "                                                  [&#x27;name&#x27;, &#x27;company&#x27;,\n",
       "                                                   &#x27;fuel_type&#x27;])])),\n",
       "                (&#x27;linearregression&#x27;, LinearRegression())])</pre><b>In a Jupyter environment, please rerun this cell to show the HTML representation or trust the notebook. <br />On GitHub, the HTML representation is unable to render, please try loading this page with nbviewer.org.</b></div><div class=\"sk-container\" hidden><div class=\"sk-item sk-dashed-wrapped\"><div class=\"sk-label-container\"><div class=\"sk-label sk-toggleable\"><input class=\"sk-toggleable__control sk-hidden--visually\" id=\"sk-estimator-id-3\" type=\"checkbox\" ><label for=\"sk-estimator-id-3\" class=\"sk-toggleable__label sk-toggleable__label-arrow\">Pipeline</label><div class=\"sk-toggleable__content\"><pre>Pipeline(steps=[(&#x27;columntransformer&#x27;,\n",
       "                 ColumnTransformer(remainder=&#x27;passthrough&#x27;,\n",
       "                                   transformers=[(&#x27;onehotencoder&#x27;,\n",
       "                                                  OneHotEncoder(categories=[array([&#x27;AudiA3Cabriolet&#x27;, &#x27;AudiA41.8&#x27;, &#x27;AudiA42.0&#x27;, &#x27;AudiA62.0&#x27;, &#x27;AudiA8&#x27;,\n",
       "       &#x27;AudiQ32.0&#x27;, &#x27;AudiQ52.0&#x27;, &#x27;AudiQ7&#x27;, &#x27;BMW3Series&#x27;, &#x27;BMW5Series&#x27;,\n",
       "       &#x27;BMW7Series&#x27;, &#x27;BMWX1&#x27;, &#x27;BMWX1sDrive20d&#x27;, &#x27;BMWX1xDrive20d&#x27;,\n",
       "       &#x27;ChevroletBeat&#x27;, &#x27;ChevroletBeat...\n",
       "                                                                            array([&#x27;Audi&#x27;, &#x27;BMW&#x27;, &#x27;Chevrolet&#x27;, &#x27;Datsun&#x27;, &#x27;Fiat&#x27;, &#x27;Force&#x27;, &#x27;Ford&#x27;,\n",
       "       &#x27;Hindustan&#x27;, &#x27;Honda&#x27;, &#x27;Hyundai&#x27;, &#x27;Jaguar&#x27;, &#x27;Jeep&#x27;, &#x27;Land&#x27;,\n",
       "       &#x27;Mahindra&#x27;, &#x27;Maruti&#x27;, &#x27;Mercedes&#x27;, &#x27;Mini&#x27;, &#x27;Mitsubishi&#x27;, &#x27;Nissan&#x27;,\n",
       "       &#x27;Renault&#x27;, &#x27;Skoda&#x27;, &#x27;Tata&#x27;, &#x27;Toyota&#x27;, &#x27;Volkswagen&#x27;, &#x27;Volvo&#x27;],\n",
       "      dtype=object),\n",
       "                                                                            array([&#x27;Diesel&#x27;, &#x27;LPG&#x27;, &#x27;Petrol&#x27;], dtype=object)]),\n",
       "                                                  [&#x27;name&#x27;, &#x27;company&#x27;,\n",
       "                                                   &#x27;fuel_type&#x27;])])),\n",
       "                (&#x27;linearregression&#x27;, LinearRegression())])</pre></div></div></div><div class=\"sk-serial\"><div class=\"sk-item sk-dashed-wrapped\"><div class=\"sk-label-container\"><div class=\"sk-label sk-toggleable\"><input class=\"sk-toggleable__control sk-hidden--visually\" id=\"sk-estimator-id-4\" type=\"checkbox\" ><label for=\"sk-estimator-id-4\" class=\"sk-toggleable__label sk-toggleable__label-arrow\">columntransformer: ColumnTransformer</label><div class=\"sk-toggleable__content\"><pre>ColumnTransformer(remainder=&#x27;passthrough&#x27;,\n",
       "                  transformers=[(&#x27;onehotencoder&#x27;,\n",
       "                                 OneHotEncoder(categories=[array([&#x27;AudiA3Cabriolet&#x27;, &#x27;AudiA41.8&#x27;, &#x27;AudiA42.0&#x27;, &#x27;AudiA62.0&#x27;, &#x27;AudiA8&#x27;,\n",
       "       &#x27;AudiQ32.0&#x27;, &#x27;AudiQ52.0&#x27;, &#x27;AudiQ7&#x27;, &#x27;BMW3Series&#x27;, &#x27;BMW5Series&#x27;,\n",
       "       &#x27;BMW7Series&#x27;, &#x27;BMWX1&#x27;, &#x27;BMWX1sDrive20d&#x27;, &#x27;BMWX1xDrive20d&#x27;,\n",
       "       &#x27;ChevroletBeat&#x27;, &#x27;ChevroletBeatDiesel&#x27;, &#x27;ChevroletBeatLS&#x27;,\n",
       "       &#x27;ChevroletB...\n",
       "       &#x27;VolvoS80Summum&#x27;], dtype=object),\n",
       "                                                           array([&#x27;Audi&#x27;, &#x27;BMW&#x27;, &#x27;Chevrolet&#x27;, &#x27;Datsun&#x27;, &#x27;Fiat&#x27;, &#x27;Force&#x27;, &#x27;Ford&#x27;,\n",
       "       &#x27;Hindustan&#x27;, &#x27;Honda&#x27;, &#x27;Hyundai&#x27;, &#x27;Jaguar&#x27;, &#x27;Jeep&#x27;, &#x27;Land&#x27;,\n",
       "       &#x27;Mahindra&#x27;, &#x27;Maruti&#x27;, &#x27;Mercedes&#x27;, &#x27;Mini&#x27;, &#x27;Mitsubishi&#x27;, &#x27;Nissan&#x27;,\n",
       "       &#x27;Renault&#x27;, &#x27;Skoda&#x27;, &#x27;Tata&#x27;, &#x27;Toyota&#x27;, &#x27;Volkswagen&#x27;, &#x27;Volvo&#x27;],\n",
       "      dtype=object),\n",
       "                                                           array([&#x27;Diesel&#x27;, &#x27;LPG&#x27;, &#x27;Petrol&#x27;], dtype=object)]),\n",
       "                                 [&#x27;name&#x27;, &#x27;company&#x27;, &#x27;fuel_type&#x27;])])</pre></div></div></div><div class=\"sk-parallel\"><div class=\"sk-parallel-item\"><div class=\"sk-item\"><div class=\"sk-label-container\"><div class=\"sk-label sk-toggleable\"><input class=\"sk-toggleable__control sk-hidden--visually\" id=\"sk-estimator-id-5\" type=\"checkbox\" ><label for=\"sk-estimator-id-5\" class=\"sk-toggleable__label sk-toggleable__label-arrow\">onehotencoder</label><div class=\"sk-toggleable__content\"><pre>[&#x27;name&#x27;, &#x27;company&#x27;, &#x27;fuel_type&#x27;]</pre></div></div></div><div class=\"sk-serial\"><div class=\"sk-item\"><div class=\"sk-estimator sk-toggleable\"><input class=\"sk-toggleable__control sk-hidden--visually\" id=\"sk-estimator-id-6\" type=\"checkbox\" ><label for=\"sk-estimator-id-6\" class=\"sk-toggleable__label sk-toggleable__label-arrow\">OneHotEncoder</label><div class=\"sk-toggleable__content\"><pre>OneHotEncoder(categories=[array([&#x27;AudiA3Cabriolet&#x27;, &#x27;AudiA41.8&#x27;, &#x27;AudiA42.0&#x27;, &#x27;AudiA62.0&#x27;, &#x27;AudiA8&#x27;,\n",
       "       &#x27;AudiQ32.0&#x27;, &#x27;AudiQ52.0&#x27;, &#x27;AudiQ7&#x27;, &#x27;BMW3Series&#x27;, &#x27;BMW5Series&#x27;,\n",
       "       &#x27;BMW7Series&#x27;, &#x27;BMWX1&#x27;, &#x27;BMWX1sDrive20d&#x27;, &#x27;BMWX1xDrive20d&#x27;,\n",
       "       &#x27;ChevroletBeat&#x27;, &#x27;ChevroletBeatDiesel&#x27;, &#x27;ChevroletBeatLS&#x27;,\n",
       "       &#x27;ChevroletBeatLT&#x27;, &#x27;ChevroletBeatPS&#x27;, &#x27;ChevroletCruzeLTZ&#x27;,\n",
       "       &#x27;ChevroletEnjoy&#x27;, &#x27;ChevroletE...\n",
       "       &#x27;VolkswagenVentoHighline&#x27;, &#x27;VolkswagenVentoKonekt&#x27;,\n",
       "       &#x27;VolvoS80Summum&#x27;], dtype=object),\n",
       "                          array([&#x27;Audi&#x27;, &#x27;BMW&#x27;, &#x27;Chevrolet&#x27;, &#x27;Datsun&#x27;, &#x27;Fiat&#x27;, &#x27;Force&#x27;, &#x27;Ford&#x27;,\n",
       "       &#x27;Hindustan&#x27;, &#x27;Honda&#x27;, &#x27;Hyundai&#x27;, &#x27;Jaguar&#x27;, &#x27;Jeep&#x27;, &#x27;Land&#x27;,\n",
       "       &#x27;Mahindra&#x27;, &#x27;Maruti&#x27;, &#x27;Mercedes&#x27;, &#x27;Mini&#x27;, &#x27;Mitsubishi&#x27;, &#x27;Nissan&#x27;,\n",
       "       &#x27;Renault&#x27;, &#x27;Skoda&#x27;, &#x27;Tata&#x27;, &#x27;Toyota&#x27;, &#x27;Volkswagen&#x27;, &#x27;Volvo&#x27;],\n",
       "      dtype=object),\n",
       "                          array([&#x27;Diesel&#x27;, &#x27;LPG&#x27;, &#x27;Petrol&#x27;], dtype=object)])</pre></div></div></div></div></div></div><div class=\"sk-parallel-item\"><div class=\"sk-item\"><div class=\"sk-label-container\"><div class=\"sk-label sk-toggleable\"><input class=\"sk-toggleable__control sk-hidden--visually\" id=\"sk-estimator-id-7\" type=\"checkbox\" ><label for=\"sk-estimator-id-7\" class=\"sk-toggleable__label sk-toggleable__label-arrow\">remainder</label><div class=\"sk-toggleable__content\"><pre>[&#x27;year&#x27;, &#x27;kms_driven&#x27;]</pre></div></div></div><div class=\"sk-serial\"><div class=\"sk-item\"><div class=\"sk-estimator sk-toggleable\"><input class=\"sk-toggleable__control sk-hidden--visually\" id=\"sk-estimator-id-8\" type=\"checkbox\" ><label for=\"sk-estimator-id-8\" class=\"sk-toggleable__label sk-toggleable__label-arrow\">passthrough</label><div class=\"sk-toggleable__content\"><pre>passthrough</pre></div></div></div></div></div></div></div></div><div class=\"sk-item\"><div class=\"sk-estimator sk-toggleable\"><input class=\"sk-toggleable__control sk-hidden--visually\" id=\"sk-estimator-id-9\" type=\"checkbox\" ><label for=\"sk-estimator-id-9\" class=\"sk-toggleable__label sk-toggleable__label-arrow\">LinearRegression</label><div class=\"sk-toggleable__content\"><pre>LinearRegression()</pre></div></div></div></div></div></div></div>"
      ],
      "text/plain": [
       "Pipeline(steps=[('columntransformer',\n",
       "                 ColumnTransformer(remainder='passthrough',\n",
       "                                   transformers=[('onehotencoder',\n",
       "                                                  OneHotEncoder(categories=[array(['AudiA3Cabriolet', 'AudiA41.8', 'AudiA42.0', 'AudiA62.0', 'AudiA8',\n",
       "       'AudiQ32.0', 'AudiQ52.0', 'AudiQ7', 'BMW3Series', 'BMW5Series',\n",
       "       'BMW7Series', 'BMWX1', 'BMWX1sDrive20d', 'BMWX1xDrive20d',\n",
       "       'ChevroletBeat', 'ChevroletBeat...\n",
       "                                                                            array(['Audi', 'BMW', 'Chevrolet', 'Datsun', 'Fiat', 'Force', 'Ford',\n",
       "       'Hindustan', 'Honda', 'Hyundai', 'Jaguar', 'Jeep', 'Land',\n",
       "       'Mahindra', 'Maruti', 'Mercedes', 'Mini', 'Mitsubishi', 'Nissan',\n",
       "       'Renault', 'Skoda', 'Tata', 'Toyota', 'Volkswagen', 'Volvo'],\n",
       "      dtype=object),\n",
       "                                                                            array(['Diesel', 'LPG', 'Petrol'], dtype=object)]),\n",
       "                                                  ['name', 'company',\n",
       "                                                   'fuel_type'])])),\n",
       "                ('linearregression', LinearRegression())])"
      ]
     },
     "execution_count": 43,
     "metadata": {},
     "output_type": "execute_result"
    }
   ],
   "source": [
    "pipe.fit(x_train,y_train)"
   ]
  },
  {
   "cell_type": "code",
   "execution_count": 44,
   "id": "081cb177-2e09-494a-a1bf-9cb4a591fa84",
   "metadata": {},
   "outputs": [],
   "source": [
    "y_pred=pipe.predict(x_test)"
   ]
  },
  {
   "cell_type": "code",
   "execution_count": 45,
   "id": "b04d99c9-9db5-44bc-9bfb-89de1f85d54d",
   "metadata": {},
   "outputs": [
    {
     "data": {
      "text/plain": [
       "array([ 193683.87294487,  230522.99607208,  291825.55400084,\n",
       "        237303.49088953,  707119.29444355,  306799.5765827 ,\n",
       "        180555.82781939,  324722.18026689,  456972.3078397 ,\n",
       "        119675.98291767,  179458.03699985, 1454652.00788702,\n",
       "        230741.69274336,  473916.05899404,   99248.86455945,\n",
       "        222848.07109652,  409864.53414732,  452287.97163388,\n",
       "        291348.08722096,  456686.907104  ,  484595.99154241,\n",
       "        586837.27365745,  231075.564083  ,   30022.23616683,\n",
       "        425372.84555373,  136849.88223331,  285000.30158404,\n",
       "        309672.4856262 ,  434832.53351008,  295972.01134048,\n",
       "        510946.16350173,  292553.97471695,  402868.16447181,\n",
       "        646541.41289683,   38936.938786  ,  478831.11687621,\n",
       "        725545.33271597,  585724.369192  ,  317987.34431382,\n",
       "        395717.79018317,  525131.41376805, 1197511.33701359,\n",
       "        439962.13495643,  367507.55913557,  611703.03630012,\n",
       "        196285.06367074,  380753.46544793,  232120.1383417 ,\n",
       "         72613.15461677,  218377.98769134,   42383.93090184,\n",
       "        294376.78137391,  437865.93627959,  472201.02435955,\n",
       "        652516.77753971,  502602.4474655 ,  212359.05824042,\n",
       "        130728.90767332,  185415.88099878,  293210.2811289 ,\n",
       "        592186.52852099,  411638.00392305,  304366.06451979,\n",
       "        259949.65931614,  321625.04610682,  587478.34366879,\n",
       "        228637.2713684 ,  195731.10101807,  308913.08837195,\n",
       "        395717.79018317,  351713.99169367,  252338.83728802,\n",
       "        374568.66204524,  191681.53637747,   83719.07157414,\n",
       "        236395.01505001,  363140.07191375,  551898.87725408,\n",
       "        641913.70043109,  490991.8778792 ,  354739.20104897,\n",
       "        304366.06451979,  335702.70075714,  508967.0103132 ,\n",
       "        367542.10705604,  497288.08946067,  285000.30158404,\n",
       "        159905.23709764,  558910.04961526,  162923.83737838,\n",
       "        549663.1853403 ,  205973.83577229,  254986.77380694,\n",
       "         18286.12559753, 1570503.91148788,  259242.14416835,\n",
       "        413592.66632505,   82002.18144137,  171982.23586854,\n",
       "        313809.58248688,  474608.7388544 ,  274497.40098207,\n",
       "        255458.3019684 ,  236818.73634548,  613080.38051979,\n",
       "        295397.70814478,  385378.33786573,  415727.07462303,\n",
       "        329265.92072404,  330448.79647357,  627849.78853011,\n",
       "        141520.21156363,  604984.9298737 ,  157287.32828534,\n",
       "        417910.81403617,  132068.99495272,  446723.44930661,\n",
       "         44767.41528329,  351515.73967665,  423083.29620048,\n",
       "        527457.62532935,  292945.6660477 ,  535838.04569267,\n",
       "        504310.87950204,  318675.21326498,  556875.62584341,\n",
       "        292553.97471695,   72437.38714807, 1390146.32023685,\n",
       "        451877.04761424,  337914.49061044,   83950.56823027,\n",
       "        444026.40495425,  330704.11214902,  234008.50719987,\n",
       "        -15909.91839842,  -68480.89805219,  547454.48274397,\n",
       "        222160.49584314,  278869.1449482 ,  141913.27545456,\n",
       "        411222.23367432,  515951.41297868,  476587.98981702,\n",
       "        488205.44968351,  637475.97428712,  304710.76721323,\n",
       "        478858.2340686 ,  106406.22363774,  230974.37074585,\n",
       "       2227977.96960261,  598745.88788746,  490516.61376347,\n",
       "        437870.99523102,  434798.02639495,  283851.49375139,\n",
       "        203133.1406923 ,  347955.11907228,  362641.96843658,\n",
       "        312527.9053123 ,  187179.88244645,  167174.77809292,\n",
       "        447836.35377207])"
      ]
     },
     "execution_count": 45,
     "metadata": {},
     "output_type": "execute_result"
    }
   ],
   "source": [
    "y_pred"
   ]
  },
  {
   "cell_type": "code",
   "execution_count": 46,
   "id": "ff87b2ad-6be9-4b85-91fa-85b30560ade2",
   "metadata": {},
   "outputs": [
    {
     "data": {
      "text/plain": [
       "0.6315956247364048"
      ]
     },
     "execution_count": 46,
     "metadata": {},
     "output_type": "execute_result"
    }
   ],
   "source": [
    "r2_score(y_test,y_pred)"
   ]
  },
  {
   "cell_type": "code",
   "execution_count": 47,
   "id": "d6756ae5-ccfa-45b2-b518-805441b32be4",
   "metadata": {},
   "outputs": [],
   "source": [
    "scores=[]\n",
    "for i in range(1000):\n",
    "    x_train,x_test,y_train,y_test=train_test_split(x,y,test_size=0.2,random_state=i)\n",
    "    lr=LinearRegression()\n",
    "    pipe=make_pipeline(column_trans,lr)\n",
    "    pipe.fit(x_train,y_train)\n",
    "    y_pred=pipe.predict(x_test)\n",
    "    scores.append(r2_score(y_test,y_pred))"
   ]
  },
  {
   "cell_type": "code",
   "execution_count": 48,
   "id": "d72b83bf-668a-42d3-8b9c-46df1f86a2e6",
   "metadata": {},
   "outputs": [
    {
     "data": {
      "text/plain": [
       "433"
      ]
     },
     "execution_count": 48,
     "metadata": {},
     "output_type": "execute_result"
    }
   ],
   "source": [
    "np.argmax(scores)"
   ]
  },
  {
   "cell_type": "code",
   "execution_count": 49,
   "id": "f7b9d127-e6d2-4ec8-aab2-64c76e9c751e",
   "metadata": {},
   "outputs": [
    {
     "data": {
      "text/plain": [
       "0.8457059012561223"
      ]
     },
     "execution_count": 49,
     "metadata": {},
     "output_type": "execute_result"
    }
   ],
   "source": [
    "scores[np.argmax(scores)]"
   ]
  },
  {
   "cell_type": "code",
   "execution_count": 173,
   "id": "085f6381-2bf5-49f0-89de-942551095810",
   "metadata": {},
   "outputs": [
    {
     "data": {
      "text/plain": [
       "0.8457059012561223"
      ]
     },
     "execution_count": 173,
     "metadata": {},
     "output_type": "execute_result"
    }
   ],
   "source": [
    "x_train,x_test,y_train,y_test=train_test_split(x,y,test_size=0.2,random_state=np.argmax(scores))\n",
    "lr=LinearRegression()\n",
    "pipe=make_pipeline(column_trans,lr)\n",
    "pipe.fit(x_train,y_train)\n",
    "y_pred=pipe.predict(x_test)\n",
    "r2_score(y_test,y_pred)"
   ]
  },
  {
   "cell_type": "code",
   "execution_count": 50,
   "id": "6353f256-625c-4ef7-8953-042e339cfada",
   "metadata": {},
   "outputs": [],
   "source": [
    "import pickle"
   ]
  },
  {
   "cell_type": "code",
   "execution_count": 51,
   "id": "dc59f6fc-ae28-4f7d-aca7-c9e800dd345d",
   "metadata": {},
   "outputs": [],
   "source": [
    "pickle.dump(pipe,open('LinearRegressionmodel.csv','wb'))"
   ]
  },
  {
   "cell_type": "code",
   "execution_count": 52,
   "id": "663e39d9-e4ac-4da4-b2e7-782fd0ad84bf",
   "metadata": {},
   "outputs": [
    {
     "data": {
      "text/plain": [
       "array([431223.99699965])"
      ]
     },
     "execution_count": 52,
     "metadata": {},
     "output_type": "execute_result"
    }
   ],
   "source": [
    "pipe.predict(pd.DataFrame([['MarutiSuzukiSwift','Maruti',2019,100,'Petrol']],columns=['name','company','year','kms_driven','fuel_type']))"
   ]
  },
  {
   "cell_type": "code",
   "execution_count": null,
   "id": "2bbb7fc2-5ae4-4c65-9ec5-3339773870be",
   "metadata": {},
   "outputs": [],
   "source": []
  }
 ],
 "metadata": {
  "kernelspec": {
   "display_name": "Python 3 (ipykernel)",
   "language": "python",
   "name": "python3"
  },
  "language_info": {
   "codemirror_mode": {
    "name": "ipython",
    "version": 3
   },
   "file_extension": ".py",
   "mimetype": "text/x-python",
   "name": "python",
   "nbconvert_exporter": "python",
   "pygments_lexer": "ipython3",
   "version": "3.10.4"
  }
 },
 "nbformat": 4,
 "nbformat_minor": 5
}
